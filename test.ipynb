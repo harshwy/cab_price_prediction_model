{
 "cells": [
  {
   "cell_type": "code",
   "execution_count": 1,
   "id": "e4fedcba-77fc-4d44-8dac-2a3e97b4ac4a",
   "metadata": {},
   "outputs": [
    {
     "name": "stdout",
     "output_type": "stream",
     "text": [
      "To predict: [1, 1, 2, 1, 2, 1, 23.8, 39]\n"
     ]
    }
   ],
   "source": [
    "import pickle\n",
    "f1=open('cab_model.pkl','rb')\n",
    "chatGPT = pickle.load(f1)\n",
    "\n",
    "\n",
    "\n",
    "# to_predict = ['Ride Distance', 'Driver Ratings', 'Customer Rating', 'Avg VTAT','Avg CTAT']\n",
    "to_predict=[]\n",
    "print(f\"To predict: {to_predict}\")"
   ]
  },
  {
   "cell_type": "code",
   "execution_count": null,
   "id": "afbec4e5-923b-440e-ad3d-80fd1a95f87f",
   "metadata": {},
   "outputs": [],
   "source": []
  }
 ],
 "metadata": {
  "kernelspec": {
   "display_name": "Python [conda env:base] *",
   "language": "python",
   "name": "conda-base-py"
  },
  "language_info": {
   "codemirror_mode": {
    "name": "ipython",
    "version": 3
   },
   "file_extension": ".py",
   "mimetype": "text/x-python",
   "name": "python",
   "nbconvert_exporter": "python",
   "pygments_lexer": "ipython3",
   "version": "3.13.5"
  }
 },
 "nbformat": 4,
 "nbformat_minor": 5
}
